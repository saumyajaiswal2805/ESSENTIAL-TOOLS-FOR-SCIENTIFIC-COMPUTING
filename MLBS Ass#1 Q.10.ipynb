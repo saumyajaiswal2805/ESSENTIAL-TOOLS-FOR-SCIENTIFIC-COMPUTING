{
 "cells": [
  {
   "cell_type": "code",
   "execution_count": 1,
   "id": "32970b87",
   "metadata": {},
   "outputs": [
    {
     "name": "stdout",
     "output_type": "stream",
     "text": [
      "   Gene Name  Fold Change    Log2FC   P-value   Padjval       Regulation\n",
      "0     Gene_I     7.792793  2.962140  0.015936  0.053123  Not significant\n",
      "1    Gene_II     8.935000  3.159468  0.011657  0.053123  Not significant\n",
      "2   Gene_III     1.906122  0.930641  0.110761  0.184602  Not significant\n",
      "3    Gene_IV     8.118812  3.021269  0.258474  0.323092  Not significant\n",
      "4     Gene_V     0.085781 -3.543191  0.015937  0.053123  Not significant\n",
      "5    Gene_VI     0.316340 -1.660450  0.341040  0.369781  Not significant\n",
      "6   Gene_VII     4.325942  2.113014  0.053285  0.133211  Not significant\n",
      "7  Gene_VIII     1.739398  0.798588  0.369781  0.369781  Not significant\n",
      "8    Gene_IX     0.305011 -1.713067  0.252193  0.323092  Not significant\n",
      "9     Gene_X     0.169643 -2.559427  0.072506  0.145012  Not significant\n"
     ]
    }
   ],
   "source": [
    "from scipy import stats\n",
    "import pandas as pd\n",
    "from statsmodels.stats.multitest import multipletests\n",
    "import numpy as np\n",
    "\n",
    "# Create a DataFrame with RNA sequencing data\n",
    "data = {\n",
    "    'Gene Name': ['Gene_I', 'Gene_II', 'Gene_III', 'Gene_IV', 'Gene_V',\n",
    "                  'Gene_VI', 'Gene_VII', 'Gene_VIII', 'Gene_IX', 'Gene_X'],\n",
    "    'Control_1': [190, 150, 165, 149, 752, 507, 150, 507, 1254, 752],\n",
    "    'Control_2': [254, 50, 325, 154, 950, 1690, 752, 1120, 582, 480],\n",
    "    'Disease_1': [1540, 964, 456, 540, 64, 215, 2150, 1840, 498, 52],\n",
    "    'Disease_2': [1920, 823, 478, 1920, 82, 480, 1752, 990, 62, 157]\n",
    "}\n",
    "\n",
    "df = pd.DataFrame(data)\n",
    "\n",
    "# Convert columns to numeric and handle non-numeric values\n",
    "numeric_cols = ['Control_1', 'Control_2', 'Disease_1', 'Disease_2']\n",
    "for col in numeric_cols:\n",
    "    df[col] = pd.to_numeric(df[col], errors='coerce')\n",
    "\n",
    "# Calculate fold change and log2FC\n",
    "df['Fold Change'] = (df['Disease_1'] + df['Disease_2']) / (df['Control_1'] + df['Control_2'])\n",
    "df['Log2FC'] = np.log2(df['Fold Change'])\n",
    "\n",
    "# Perform t-test and calculate p-values\n",
    "t_statistic, p_value = stats.ttest_ind(df[['Control_1', 'Control_2']], df[['Disease_1', 'Disease_2']], axis=1)\n",
    "df['P-value'] = p_value\n",
    "\n",
    "# Adjust p-values using the Benjamini-Hochberg procedure\n",
    "reject, p_adj, _, _ = multipletests(df['P-value'], method='fdr_bh')\n",
    "df['Padjval'] = p_adj\n",
    "\n",
    "# Determine Up/Down-regulated genes based on log2FC and adjusted p-values\n",
    "df['Regulation'] = np.where((df['Log2FC'] > 0) & (df['Padjval'] < 0.05), 'Up', \n",
    "                            np.where((df['Log2FC'] < 0) & (df['Padjval'] < 0.05), 'Down', 'Not significant'))\n",
    "\n",
    "# Print the final DataFrame\n",
    "print(df[['Gene Name', 'Fold Change', 'Log2FC', 'P-value', 'Padjval', 'Regulation']])\n"
   ]
  }
 ],
 "metadata": {
  "kernelspec": {
   "display_name": "Python 3 (ipykernel)",
   "language": "python",
   "name": "python3"
  },
  "language_info": {
   "codemirror_mode": {
    "name": "ipython",
    "version": 3
   },
   "file_extension": ".py",
   "mimetype": "text/x-python",
   "name": "python",
   "nbconvert_exporter": "python",
   "pygments_lexer": "ipython3",
   "version": "3.11.4"
  }
 },
 "nbformat": 4,
 "nbformat_minor": 5
}
