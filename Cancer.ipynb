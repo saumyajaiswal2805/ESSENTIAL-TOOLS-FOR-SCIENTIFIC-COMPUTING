{
 "cells": [
  {
   "cell_type": "code",
   "execution_count": 1,
   "id": "63fdc2d3",
   "metadata": {},
   "outputs": [],
   "source": [
    "import pandas as pd\n",
    "import numpy as np\n",
    "from sklearn.svm import SVC\n",
    "import matplotlib.pyplot as plt\n",
    "from sklearn.preprocessing import LabelEncoder\n",
    "from sklearn.neural_network import MLPClassifier\n",
    "from sklearn.model_selection import train_test_split\n",
    "from sklearn.ensemble import RandomForestClassifier\n",
    "from sklearn.metrics import accuracy_score, precision_score, recall_score, f1_score, confusion_matrix\n",
    "from sklearn.metrics import f1_score, precision_score, recall_score, confusion_matrix, classification_report"
   ]
  },
  {
   "cell_type": "code",
   "execution_count": 2,
   "id": "59fd29eb",
   "metadata": {},
   "outputs": [],
   "source": [
    "data =pd.read_csv(r'E:\\MLBS\\Assignment 2\\data_train.csv')\n",
    "test_data =pd.read_csv(r'E:\\MLBS\\Assignment 2\\data_test.csv')\n",
    "labels = pd.read_csv(r'E:\\MLBS\\Assignment 2\\Copy of actual.csv', index_col = 'patient')"
   ]
  },
  {
   "cell_type": "code",
   "execution_count": 3,
   "id": "9a0fc728",
   "metadata": {
    "scrolled": false
   },
   "outputs": [
    {
     "name": "stdout",
     "output_type": "stream",
     "text": [
      "First 5 rows of the training dataset:\n"
     ]
    },
    {
     "data": {
      "text/html": [
       "<div>\n",
       "<style scoped>\n",
       "    .dataframe tbody tr th:only-of-type {\n",
       "        vertical-align: middle;\n",
       "    }\n",
       "\n",
       "    .dataframe tbody tr th {\n",
       "        vertical-align: top;\n",
       "    }\n",
       "\n",
       "    .dataframe thead th {\n",
       "        text-align: right;\n",
       "    }\n",
       "</style>\n",
       "<table border=\"1\" class=\"dataframe\">\n",
       "  <thead>\n",
       "    <tr style=\"text-align: right;\">\n",
       "      <th></th>\n",
       "      <th>Gene Description</th>\n",
       "      <th>Gene Accession Number</th>\n",
       "      <th>1</th>\n",
       "      <th>call</th>\n",
       "      <th>2</th>\n",
       "      <th>call.1</th>\n",
       "      <th>3</th>\n",
       "      <th>call.2</th>\n",
       "      <th>4</th>\n",
       "      <th>call.3</th>\n",
       "      <th>...</th>\n",
       "      <th>29</th>\n",
       "      <th>call.33</th>\n",
       "      <th>30</th>\n",
       "      <th>call.34</th>\n",
       "      <th>31</th>\n",
       "      <th>call.35</th>\n",
       "      <th>32</th>\n",
       "      <th>call.36</th>\n",
       "      <th>33</th>\n",
       "      <th>call.37</th>\n",
       "    </tr>\n",
       "  </thead>\n",
       "  <tbody>\n",
       "    <tr>\n",
       "      <th>0</th>\n",
       "      <td>AFFX-BioB-5_at (endogenous control)</td>\n",
       "      <td>AFFX-BioB-5_at</td>\n",
       "      <td>-214</td>\n",
       "      <td>A</td>\n",
       "      <td>-139</td>\n",
       "      <td>A</td>\n",
       "      <td>-76</td>\n",
       "      <td>A</td>\n",
       "      <td>-135</td>\n",
       "      <td>A</td>\n",
       "      <td>...</td>\n",
       "      <td>15</td>\n",
       "      <td>A</td>\n",
       "      <td>-318</td>\n",
       "      <td>A</td>\n",
       "      <td>-32</td>\n",
       "      <td>A</td>\n",
       "      <td>-124</td>\n",
       "      <td>A</td>\n",
       "      <td>-135</td>\n",
       "      <td>A</td>\n",
       "    </tr>\n",
       "    <tr>\n",
       "      <th>1</th>\n",
       "      <td>AFFX-BioB-M_at (endogenous control)</td>\n",
       "      <td>AFFX-BioB-M_at</td>\n",
       "      <td>-153</td>\n",
       "      <td>A</td>\n",
       "      <td>-73</td>\n",
       "      <td>A</td>\n",
       "      <td>-49</td>\n",
       "      <td>A</td>\n",
       "      <td>-114</td>\n",
       "      <td>A</td>\n",
       "      <td>...</td>\n",
       "      <td>-114</td>\n",
       "      <td>A</td>\n",
       "      <td>-192</td>\n",
       "      <td>A</td>\n",
       "      <td>-49</td>\n",
       "      <td>A</td>\n",
       "      <td>-79</td>\n",
       "      <td>A</td>\n",
       "      <td>-186</td>\n",
       "      <td>A</td>\n",
       "    </tr>\n",
       "    <tr>\n",
       "      <th>2</th>\n",
       "      <td>AFFX-BioB-3_at (endogenous control)</td>\n",
       "      <td>AFFX-BioB-3_at</td>\n",
       "      <td>-58</td>\n",
       "      <td>A</td>\n",
       "      <td>-1</td>\n",
       "      <td>A</td>\n",
       "      <td>-307</td>\n",
       "      <td>A</td>\n",
       "      <td>265</td>\n",
       "      <td>A</td>\n",
       "      <td>...</td>\n",
       "      <td>2</td>\n",
       "      <td>A</td>\n",
       "      <td>-95</td>\n",
       "      <td>A</td>\n",
       "      <td>49</td>\n",
       "      <td>A</td>\n",
       "      <td>-37</td>\n",
       "      <td>A</td>\n",
       "      <td>-70</td>\n",
       "      <td>A</td>\n",
       "    </tr>\n",
       "    <tr>\n",
       "      <th>3</th>\n",
       "      <td>AFFX-BioC-5_at (endogenous control)</td>\n",
       "      <td>AFFX-BioC-5_at</td>\n",
       "      <td>88</td>\n",
       "      <td>A</td>\n",
       "      <td>283</td>\n",
       "      <td>A</td>\n",
       "      <td>309</td>\n",
       "      <td>A</td>\n",
       "      <td>12</td>\n",
       "      <td>A</td>\n",
       "      <td>...</td>\n",
       "      <td>193</td>\n",
       "      <td>A</td>\n",
       "      <td>312</td>\n",
       "      <td>A</td>\n",
       "      <td>230</td>\n",
       "      <td>P</td>\n",
       "      <td>330</td>\n",
       "      <td>A</td>\n",
       "      <td>337</td>\n",
       "      <td>A</td>\n",
       "    </tr>\n",
       "    <tr>\n",
       "      <th>4</th>\n",
       "      <td>AFFX-BioC-3_at (endogenous control)</td>\n",
       "      <td>AFFX-BioC-3_at</td>\n",
       "      <td>-295</td>\n",
       "      <td>A</td>\n",
       "      <td>-264</td>\n",
       "      <td>A</td>\n",
       "      <td>-376</td>\n",
       "      <td>A</td>\n",
       "      <td>-419</td>\n",
       "      <td>A</td>\n",
       "      <td>...</td>\n",
       "      <td>-51</td>\n",
       "      <td>A</td>\n",
       "      <td>-139</td>\n",
       "      <td>A</td>\n",
       "      <td>-367</td>\n",
       "      <td>A</td>\n",
       "      <td>-188</td>\n",
       "      <td>A</td>\n",
       "      <td>-407</td>\n",
       "      <td>A</td>\n",
       "    </tr>\n",
       "  </tbody>\n",
       "</table>\n",
       "<p>5 rows × 78 columns</p>\n",
       "</div>"
      ],
      "text/plain": [
       "                      Gene Description Gene Accession Number    1 call    2  \\\n",
       "0  AFFX-BioB-5_at (endogenous control)        AFFX-BioB-5_at -214    A -139   \n",
       "1  AFFX-BioB-M_at (endogenous control)        AFFX-BioB-M_at -153    A  -73   \n",
       "2  AFFX-BioB-3_at (endogenous control)        AFFX-BioB-3_at  -58    A   -1   \n",
       "3  AFFX-BioC-5_at (endogenous control)        AFFX-BioC-5_at   88    A  283   \n",
       "4  AFFX-BioC-3_at (endogenous control)        AFFX-BioC-3_at -295    A -264   \n",
       "\n",
       "  call.1    3 call.2    4 call.3  ...   29 call.33   30 call.34   31 call.35  \\\n",
       "0      A  -76      A -135      A  ...   15       A -318       A  -32       A   \n",
       "1      A  -49      A -114      A  ... -114       A -192       A  -49       A   \n",
       "2      A -307      A  265      A  ...    2       A  -95       A   49       A   \n",
       "3      A  309      A   12      A  ...  193       A  312       A  230       P   \n",
       "4      A -376      A -419      A  ...  -51       A -139       A -367       A   \n",
       "\n",
       "    32 call.36   33 call.37  \n",
       "0 -124       A -135       A  \n",
       "1  -79       A -186       A  \n",
       "2  -37       A  -70       A  \n",
       "3  330       A  337       A  \n",
       "4 -188       A -407       A  \n",
       "\n",
       "[5 rows x 78 columns]"
      ]
     },
     "execution_count": 3,
     "metadata": {},
     "output_type": "execute_result"
    }
   ],
   "source": [
    "print(\"First 5 rows of the training dataset:\")\n",
    "# print(data.head())\n",
    "data.head()"
   ]
  },
  {
   "cell_type": "code",
   "execution_count": 4,
   "id": "a5eeb6dd",
   "metadata": {},
   "outputs": [
    {
     "name": "stdout",
     "output_type": "stream",
     "text": [
      "First few rows of the testing dataset:\n"
     ]
    },
    {
     "data": {
      "text/html": [
       "<div>\n",
       "<style scoped>\n",
       "    .dataframe tbody tr th:only-of-type {\n",
       "        vertical-align: middle;\n",
       "    }\n",
       "\n",
       "    .dataframe tbody tr th {\n",
       "        vertical-align: top;\n",
       "    }\n",
       "\n",
       "    .dataframe thead th {\n",
       "        text-align: right;\n",
       "    }\n",
       "</style>\n",
       "<table border=\"1\" class=\"dataframe\">\n",
       "  <thead>\n",
       "    <tr style=\"text-align: right;\">\n",
       "      <th></th>\n",
       "      <th>Gene Description</th>\n",
       "      <th>Gene Accession Number</th>\n",
       "      <th>39</th>\n",
       "      <th>call</th>\n",
       "      <th>40</th>\n",
       "      <th>call.1</th>\n",
       "      <th>42</th>\n",
       "      <th>call.2</th>\n",
       "      <th>47</th>\n",
       "      <th>call.3</th>\n",
       "      <th>...</th>\n",
       "      <th>65</th>\n",
       "      <th>call.29</th>\n",
       "      <th>66</th>\n",
       "      <th>call.30</th>\n",
       "      <th>63</th>\n",
       "      <th>call.31</th>\n",
       "      <th>64</th>\n",
       "      <th>call.32</th>\n",
       "      <th>62</th>\n",
       "      <th>call.33</th>\n",
       "    </tr>\n",
       "  </thead>\n",
       "  <tbody>\n",
       "    <tr>\n",
       "      <th>0</th>\n",
       "      <td>AFFX-BioB-5_at (endogenous control)</td>\n",
       "      <td>AFFX-BioB-5_at</td>\n",
       "      <td>-342</td>\n",
       "      <td>A</td>\n",
       "      <td>-87</td>\n",
       "      <td>A</td>\n",
       "      <td>22</td>\n",
       "      <td>A</td>\n",
       "      <td>-243</td>\n",
       "      <td>A</td>\n",
       "      <td>...</td>\n",
       "      <td>-62</td>\n",
       "      <td>A</td>\n",
       "      <td>-58</td>\n",
       "      <td>A</td>\n",
       "      <td>-161</td>\n",
       "      <td>A</td>\n",
       "      <td>-48</td>\n",
       "      <td>A</td>\n",
       "      <td>-176</td>\n",
       "      <td>A</td>\n",
       "    </tr>\n",
       "    <tr>\n",
       "      <th>1</th>\n",
       "      <td>AFFX-BioB-M_at (endogenous control)</td>\n",
       "      <td>AFFX-BioB-M_at</td>\n",
       "      <td>-200</td>\n",
       "      <td>A</td>\n",
       "      <td>-248</td>\n",
       "      <td>A</td>\n",
       "      <td>-153</td>\n",
       "      <td>A</td>\n",
       "      <td>-218</td>\n",
       "      <td>A</td>\n",
       "      <td>...</td>\n",
       "      <td>-198</td>\n",
       "      <td>A</td>\n",
       "      <td>-217</td>\n",
       "      <td>A</td>\n",
       "      <td>-215</td>\n",
       "      <td>A</td>\n",
       "      <td>-531</td>\n",
       "      <td>A</td>\n",
       "      <td>-284</td>\n",
       "      <td>A</td>\n",
       "    </tr>\n",
       "    <tr>\n",
       "      <th>2</th>\n",
       "      <td>AFFX-BioB-3_at (endogenous control)</td>\n",
       "      <td>AFFX-BioB-3_at</td>\n",
       "      <td>41</td>\n",
       "      <td>A</td>\n",
       "      <td>262</td>\n",
       "      <td>A</td>\n",
       "      <td>17</td>\n",
       "      <td>A</td>\n",
       "      <td>-163</td>\n",
       "      <td>A</td>\n",
       "      <td>...</td>\n",
       "      <td>-5</td>\n",
       "      <td>A</td>\n",
       "      <td>63</td>\n",
       "      <td>A</td>\n",
       "      <td>-46</td>\n",
       "      <td>A</td>\n",
       "      <td>-124</td>\n",
       "      <td>A</td>\n",
       "      <td>-81</td>\n",
       "      <td>A</td>\n",
       "    </tr>\n",
       "    <tr>\n",
       "      <th>3</th>\n",
       "      <td>AFFX-BioC-5_at (endogenous control)</td>\n",
       "      <td>AFFX-BioC-5_at</td>\n",
       "      <td>328</td>\n",
       "      <td>A</td>\n",
       "      <td>295</td>\n",
       "      <td>A</td>\n",
       "      <td>276</td>\n",
       "      <td>A</td>\n",
       "      <td>182</td>\n",
       "      <td>A</td>\n",
       "      <td>...</td>\n",
       "      <td>141</td>\n",
       "      <td>A</td>\n",
       "      <td>95</td>\n",
       "      <td>A</td>\n",
       "      <td>146</td>\n",
       "      <td>A</td>\n",
       "      <td>431</td>\n",
       "      <td>A</td>\n",
       "      <td>9</td>\n",
       "      <td>A</td>\n",
       "    </tr>\n",
       "    <tr>\n",
       "      <th>4</th>\n",
       "      <td>AFFX-BioC-3_at (endogenous control)</td>\n",
       "      <td>AFFX-BioC-3_at</td>\n",
       "      <td>-224</td>\n",
       "      <td>A</td>\n",
       "      <td>-226</td>\n",
       "      <td>A</td>\n",
       "      <td>-211</td>\n",
       "      <td>A</td>\n",
       "      <td>-289</td>\n",
       "      <td>A</td>\n",
       "      <td>...</td>\n",
       "      <td>-256</td>\n",
       "      <td>A</td>\n",
       "      <td>-191</td>\n",
       "      <td>A</td>\n",
       "      <td>-172</td>\n",
       "      <td>A</td>\n",
       "      <td>-496</td>\n",
       "      <td>A</td>\n",
       "      <td>-294</td>\n",
       "      <td>A</td>\n",
       "    </tr>\n",
       "  </tbody>\n",
       "</table>\n",
       "<p>5 rows × 70 columns</p>\n",
       "</div>"
      ],
      "text/plain": [
       "                      Gene Description Gene Accession Number   39 call   40  \\\n",
       "0  AFFX-BioB-5_at (endogenous control)        AFFX-BioB-5_at -342    A  -87   \n",
       "1  AFFX-BioB-M_at (endogenous control)        AFFX-BioB-M_at -200    A -248   \n",
       "2  AFFX-BioB-3_at (endogenous control)        AFFX-BioB-3_at   41    A  262   \n",
       "3  AFFX-BioC-5_at (endogenous control)        AFFX-BioC-5_at  328    A  295   \n",
       "4  AFFX-BioC-3_at (endogenous control)        AFFX-BioC-3_at -224    A -226   \n",
       "\n",
       "  call.1   42 call.2   47 call.3  ...   65 call.29   66 call.30   63 call.31  \\\n",
       "0      A   22      A -243      A  ...  -62       A  -58       A -161       A   \n",
       "1      A -153      A -218      A  ... -198       A -217       A -215       A   \n",
       "2      A   17      A -163      A  ...   -5       A   63       A  -46       A   \n",
       "3      A  276      A  182      A  ...  141       A   95       A  146       A   \n",
       "4      A -211      A -289      A  ... -256       A -191       A -172       A   \n",
       "\n",
       "    64 call.32   62 call.33  \n",
       "0  -48       A -176       A  \n",
       "1 -531       A -284       A  \n",
       "2 -124       A  -81       A  \n",
       "3  431       A    9       A  \n",
       "4 -496       A -294       A  \n",
       "\n",
       "[5 rows x 70 columns]"
      ]
     },
     "execution_count": 4,
     "metadata": {},
     "output_type": "execute_result"
    }
   ],
   "source": [
    "print(\"First few rows of the testing dataset:\")\n",
    "#print(test_data.head())\n",
    "test_data.head()"
   ]
  },
  {
   "cell_type": "code",
   "execution_count": 5,
   "id": "b19a4c31",
   "metadata": {},
   "outputs": [
    {
     "name": "stdout",
     "output_type": "stream",
     "text": [
      "\n",
      "Training Dataset information:\n",
      "<class 'pandas.core.frame.DataFrame'>\n",
      "RangeIndex: 7129 entries, 0 to 7128\n",
      "Data columns (total 78 columns):\n",
      " #   Column                 Non-Null Count  Dtype \n",
      "---  ------                 --------------  ----- \n",
      " 0   Gene Description       7129 non-null   object\n",
      " 1   Gene Accession Number  7129 non-null   object\n",
      " 2   1                      7129 non-null   int64 \n",
      " 3   call                   7129 non-null   object\n",
      " 4   2                      7129 non-null   int64 \n",
      " 5   call.1                 7129 non-null   object\n",
      " 6   3                      7129 non-null   int64 \n",
      " 7   call.2                 7129 non-null   object\n",
      " 8   4                      7129 non-null   int64 \n",
      " 9   call.3                 7129 non-null   object\n",
      " 10  5                      7129 non-null   int64 \n",
      " 11  call.4                 7129 non-null   object\n",
      " 12  6                      7129 non-null   int64 \n",
      " 13  call.5                 7129 non-null   object\n",
      " 14  7                      7129 non-null   int64 \n",
      " 15  call.6                 7129 non-null   object\n",
      " 16  8                      7129 non-null   int64 \n",
      " 17  call.7                 7129 non-null   object\n",
      " 18  9                      7129 non-null   int64 \n",
      " 19  call.8                 7129 non-null   object\n",
      " 20  10                     7129 non-null   int64 \n",
      " 21  call.9                 7129 non-null   object\n",
      " 22  11                     7129 non-null   int64 \n",
      " 23  call.10                7129 non-null   object\n",
      " 24  12                     7129 non-null   int64 \n",
      " 25  call.11                7129 non-null   object\n",
      " 26  13                     7129 non-null   int64 \n",
      " 27  call.12                7129 non-null   object\n",
      " 28  14                     7129 non-null   int64 \n",
      " 29  call.13                7129 non-null   object\n",
      " 30  15                     7129 non-null   int64 \n",
      " 31  call.14                7129 non-null   object\n",
      " 32  16                     7129 non-null   int64 \n",
      " 33  call.15                7129 non-null   object\n",
      " 34  17                     7129 non-null   int64 \n",
      " 35  call.16                7129 non-null   object\n",
      " 36  18                     7129 non-null   int64 \n",
      " 37  call.17                7129 non-null   object\n",
      " 38  19                     7129 non-null   int64 \n",
      " 39  call.18                7129 non-null   object\n",
      " 40  20                     7129 non-null   int64 \n",
      " 41  call.19                7129 non-null   object\n",
      " 42  21                     7129 non-null   int64 \n",
      " 43  call.20                7129 non-null   object\n",
      " 44  22                     7129 non-null   int64 \n",
      " 45  call.21                7129 non-null   object\n",
      " 46  23                     7129 non-null   int64 \n",
      " 47  call.22                7129 non-null   object\n",
      " 48  24                     7129 non-null   int64 \n",
      " 49  call.23                7129 non-null   object\n",
      " 50  25                     7129 non-null   int64 \n",
      " 51  call.24                7129 non-null   object\n",
      " 52  26                     7129 non-null   int64 \n",
      " 53  call.25                7129 non-null   object\n",
      " 54  27                     7129 non-null   int64 \n",
      " 55  call.26                7129 non-null   object\n",
      " 56  34                     7129 non-null   int64 \n",
      " 57  call.27                7129 non-null   object\n",
      " 58  35                     7129 non-null   int64 \n",
      " 59  call.28                7129 non-null   object\n",
      " 60  36                     7129 non-null   int64 \n",
      " 61  call.29                7129 non-null   object\n",
      " 62  37                     7129 non-null   int64 \n",
      " 63  call.30                7129 non-null   object\n",
      " 64  38                     7129 non-null   int64 \n",
      " 65  call.31                7129 non-null   object\n",
      " 66  28                     7129 non-null   int64 \n",
      " 67  call.32                7129 non-null   object\n",
      " 68  29                     7129 non-null   int64 \n",
      " 69  call.33                7129 non-null   object\n",
      " 70  30                     7129 non-null   int64 \n",
      " 71  call.34                7129 non-null   object\n",
      " 72  31                     7129 non-null   int64 \n",
      " 73  call.35                7129 non-null   object\n",
      " 74  32                     7129 non-null   int64 \n",
      " 75  call.36                7129 non-null   object\n",
      " 76  33                     7129 non-null   int64 \n",
      " 77  call.37                7129 non-null   object\n",
      "dtypes: int64(38), object(40)\n",
      "memory usage: 4.2+ MB\n",
      "None\n"
     ]
    }
   ],
   "source": [
    "print(\"\\nTraining Dataset information:\")\n",
    "print(data.info())"
   ]
  },
  {
   "cell_type": "code",
   "execution_count": 6,
   "id": "6c725b6d",
   "metadata": {},
   "outputs": [
    {
     "name": "stdout",
     "output_type": "stream",
     "text": [
      "\n",
      "Testing Dataset information:\n",
      "<class 'pandas.core.frame.DataFrame'>\n",
      "RangeIndex: 7129 entries, 0 to 7128\n",
      "Data columns (total 70 columns):\n",
      " #   Column                 Non-Null Count  Dtype \n",
      "---  ------                 --------------  ----- \n",
      " 0   Gene Description       7129 non-null   object\n",
      " 1   Gene Accession Number  7129 non-null   object\n",
      " 2   39                     7129 non-null   int64 \n",
      " 3   call                   7129 non-null   object\n",
      " 4   40                     7129 non-null   int64 \n",
      " 5   call.1                 7129 non-null   object\n",
      " 6   42                     7129 non-null   int64 \n",
      " 7   call.2                 7129 non-null   object\n",
      " 8   47                     7129 non-null   int64 \n",
      " 9   call.3                 7129 non-null   object\n",
      " 10  48                     7129 non-null   int64 \n",
      " 11  call.4                 7129 non-null   object\n",
      " 12  49                     7129 non-null   int64 \n",
      " 13  call.5                 7129 non-null   object\n",
      " 14  41                     7129 non-null   int64 \n",
      " 15  call.6                 7129 non-null   object\n",
      " 16  43                     7129 non-null   int64 \n",
      " 17  call.7                 7129 non-null   object\n",
      " 18  44                     7129 non-null   int64 \n",
      " 19  call.8                 7129 non-null   object\n",
      " 20  45                     7129 non-null   int64 \n",
      " 21  call.9                 7129 non-null   object\n",
      " 22  46                     7129 non-null   int64 \n",
      " 23  call.10                7129 non-null   object\n",
      " 24  70                     7129 non-null   int64 \n",
      " 25  call.11                7129 non-null   object\n",
      " 26  71                     7129 non-null   int64 \n",
      " 27  call.12                7129 non-null   object\n",
      " 28  72                     7129 non-null   int64 \n",
      " 29  call.13                7129 non-null   object\n",
      " 30  68                     7129 non-null   int64 \n",
      " 31  call.14                7129 non-null   object\n",
      " 32  69                     7129 non-null   int64 \n",
      " 33  call.15                7129 non-null   object\n",
      " 34  67                     7129 non-null   int64 \n",
      " 35  call.16                7129 non-null   object\n",
      " 36  55                     7129 non-null   int64 \n",
      " 37  call.17                7129 non-null   object\n",
      " 38  56                     7129 non-null   int64 \n",
      " 39  call.18                7129 non-null   object\n",
      " 40  59                     7129 non-null   int64 \n",
      " 41  call.19                7129 non-null   object\n",
      " 42  52                     7129 non-null   int64 \n",
      " 43  call.20                7129 non-null   object\n",
      " 44  53                     7129 non-null   int64 \n",
      " 45  call.21                7129 non-null   object\n",
      " 46  51                     7129 non-null   int64 \n",
      " 47  call.22                7129 non-null   object\n",
      " 48  50                     7129 non-null   int64 \n",
      " 49  call.23                7129 non-null   object\n",
      " 50  54                     7129 non-null   int64 \n",
      " 51  call.24                7129 non-null   object\n",
      " 52  57                     7129 non-null   int64 \n",
      " 53  call.25                7129 non-null   object\n",
      " 54  58                     7129 non-null   int64 \n",
      " 55  call.26                7129 non-null   object\n",
      " 56  60                     7129 non-null   int64 \n",
      " 57  call.27                7129 non-null   object\n",
      " 58  61                     7129 non-null   int64 \n",
      " 59  call.28                7129 non-null   object\n",
      " 60  65                     7129 non-null   int64 \n",
      " 61  call.29                7129 non-null   object\n",
      " 62  66                     7129 non-null   int64 \n",
      " 63  call.30                7129 non-null   object\n",
      " 64  63                     7129 non-null   int64 \n",
      " 65  call.31                7129 non-null   object\n",
      " 66  64                     7129 non-null   int64 \n",
      " 67  call.32                7129 non-null   object\n",
      " 68  62                     7129 non-null   int64 \n",
      " 69  call.33                7129 non-null   object\n",
      "dtypes: int64(34), object(36)\n",
      "memory usage: 3.8+ MB\n",
      "None\n"
     ]
    }
   ],
   "source": [
    "print(\"\\nTesting Dataset information:\")\n",
    "print(test_data.info())"
   ]
  },
  {
   "cell_type": "code",
   "execution_count": 7,
   "id": "17824c50",
   "metadata": {
    "scrolled": true
   },
   "outputs": [
    {
     "name": "stdout",
     "output_type": "stream",
     "text": [
      "\n",
      "Summary statistics of numerical columns of Training Data:\n",
      "                  1             2             3             4             5  \\\n",
      "count   7129.000000   7129.000000   7129.000000   7129.000000   7129.000000   \n",
      "mean     641.367092    690.246318    698.307897    600.985271    679.532894   \n",
      "std     2264.294361   2468.814372   2485.656277   2340.047428   2375.895416   \n",
      "min   -19826.000000 -17930.000000 -27182.000000 -23396.000000 -10339.000000   \n",
      "25%      -21.000000    -14.000000    -31.000000    -33.000000      8.000000   \n",
      "50%      159.000000    130.000000    177.000000    139.000000    146.000000   \n",
      "75%      535.000000    488.000000    610.000000    497.000000    471.000000   \n",
      "max    31086.000000  29288.000000  28056.000000  31449.000000  29543.000000   \n",
      "\n",
      "                  6             7             8             9            10  \\\n",
      "count   7129.000000   7129.000000   7129.000000   7129.000000   7129.000000   \n",
      "mean     564.797728    584.437649    571.359097    789.713705    599.483097   \n",
      "std     2494.604090   2412.812263   2378.780450   2580.157021   2421.156219   \n",
      "min   -21658.000000 -24024.000000 -27570.000000 -25171.000000 -12500.000000   \n",
      "25%      -26.000000    -33.000000    -58.000000    -14.000000    -15.000000   \n",
      "50%      106.000000    134.000000    140.000000    166.000000    103.000000   \n",
      "75%      401.000000    497.000000    527.000000    609.000000    386.000000   \n",
      "max    38467.000000  41911.000000  40065.000000  23602.000000  28033.000000   \n",
      "\n",
      "       ...            35            36            37            38  \\\n",
      "count  ...   7129.000000   7129.000000   7129.000000   7129.000000   \n",
      "mean   ...    514.496704    775.143498    689.248141    626.885959   \n",
      "std    ...   2440.722824   2676.664777   2543.537830   2473.180838   \n",
      "min    ... -16281.000000 -27398.000000 -23673.000000 -23645.000000   \n",
      "25%    ...    -43.000000    -27.000000    -23.000000    -22.000000   \n",
      "50%    ...    108.000000    144.000000    134.000000    133.000000   \n",
      "75%    ...    396.000000    569.000000    505.000000    490.000000   \n",
      "max    ...  61228.000000  37164.000000  32204.000000  29169.000000   \n",
      "\n",
      "                 28            29            30            31            32  \\\n",
      "count   7129.000000   7129.000000   7129.000000   7129.000000   7129.000000   \n",
      "mean     673.279422    556.463179    718.934493    598.648899    676.920887   \n",
      "std     2413.149603   2376.681824   2533.678058   2405.268550   2436.964933   \n",
      "min   -20376.000000  -9501.000000 -17580.000000 -25491.000000 -28400.000000   \n",
      "25%      -16.000000    -13.000000    -25.000000    -32.000000    -22.000000   \n",
      "50%      150.000000     82.000000    128.000000    107.000000    155.000000   \n",
      "75%      517.000000    309.000000    488.000000    443.000000    549.000000   \n",
      "max    29833.000000  30354.000000  25055.000000  28350.000000  25093.000000   \n",
      "\n",
      "                 33  \n",
      "count   7129.000000  \n",
      "mean     723.563473  \n",
      "std     2507.382019  \n",
      "min   -27811.000000  \n",
      "25%      -38.000000  \n",
      "50%      170.000000  \n",
      "75%      649.000000  \n",
      "max    32946.000000  \n",
      "\n",
      "[8 rows x 38 columns]\n"
     ]
    }
   ],
   "source": [
    "print(\"\\nSummary statistics of numerical columns of Training Data:\")\n",
    "print(data.describe())"
   ]
  },
  {
   "cell_type": "code",
   "execution_count": 8,
   "id": "44e0adf7",
   "metadata": {},
   "outputs": [
    {
     "name": "stdout",
     "output_type": "stream",
     "text": [
      "\n",
      "Summary statistics of numerical columns of Testing Data:\n",
      "                 39            40            42            47            48  \\\n",
      "count   7129.000000   7129.000000   7129.000000   7129.000000   7129.000000   \n",
      "mean     582.194978    527.819329    603.813719    576.027213    751.464862   \n",
      "std     2473.986881   2304.800191   2377.775459   2436.848381   2437.815002   \n",
      "min   -21984.000000 -21296.000000 -10481.000000  -7861.000000 -16945.000000   \n",
      "25%      -33.000000    -36.000000    -17.000000     -8.000000     -6.000000   \n",
      "50%      125.000000    124.000000    116.000000    126.000000    158.000000   \n",
      "75%      439.000000    424.000000    420.000000    374.000000    577.000000   \n",
      "max    45815.000000  29136.000000  37529.000000  43221.000000  25231.000000   \n",
      "\n",
      "                 49            41            43            44            45  \\\n",
      "count   7129.000000   7129.000000   7129.000000   7129.000000   7129.000000   \n",
      "mean     601.516763    565.152476    563.614252    531.401599    530.194137   \n",
      "std     2432.454360   2352.036107   2521.409254   2335.848476   2368.906095   \n",
      "min   -26775.000000  -7764.000000 -13905.000000  -9619.000000  -5353.000000   \n",
      "25%      -65.000000     -7.000000    -21.000000    -45.000000    -59.000000   \n",
      "50%      139.000000     93.000000    110.000000     74.000000     78.000000   \n",
      "75%      552.000000    342.000000    372.000000    321.000000    327.000000   \n",
      "max    29500.000000  31076.000000  49432.000000  35402.000000  34741.000000   \n",
      "\n",
      "       ...           54            57            58            60  \\\n",
      "count  ...   7129.00000   7129.000000   7129.000000   7129.000000   \n",
      "mean   ...    668.70122    497.195820    561.964371    561.004629   \n",
      "std    ...   2505.06701   2436.468032   2688.424072   2615.321812   \n",
      "min    ... -11978.00000 -11067.000000 -16131.000000  -9338.000000   \n",
      "25%    ...    -10.00000    -27.000000    -49.000000    -19.000000   \n",
      "50%    ...    151.00000     82.000000    129.000000     98.000000   \n",
      "75%    ...    469.00000    296.000000    435.000000    321.000000   \n",
      "max    ...  35742.00000  38690.000000  59647.000000  40792.000000   \n",
      "\n",
      "                 61            65            66            63            64  \\\n",
      "count   7129.000000   7129.000000   7129.000000   7129.000000   7129.000000   \n",
      "mean     581.006593    556.054145    530.495020    727.593351    686.850610   \n",
      "std     2467.740997   2360.238246   2463.108827   2488.340963   2703.734409   \n",
      "min   -16268.000000 -14244.000000  -7626.000000 -20782.000000 -26258.000000   \n",
      "25%      -36.000000    -31.000000    -15.000000    -21.000000    -51.000000   \n",
      "50%      117.000000     99.000000     73.000000    162.000000    195.000000   \n",
      "75%      422.000000    366.000000    280.000000    578.000000    683.000000   \n",
      "max    37374.000000  27447.000000  53204.000000  31585.000000  71369.000000   \n",
      "\n",
      "                62  \n",
      "count   7129.00000  \n",
      "mean     671.16496  \n",
      "std     2659.95898  \n",
      "min   -11973.00000  \n",
      "25%      -20.00000  \n",
      "50%      136.00000  \n",
      "75%      474.00000  \n",
      "max    48374.00000  \n",
      "\n",
      "[8 rows x 34 columns]\n"
     ]
    }
   ],
   "source": [
    "print(\"\\nSummary statistics of numerical columns of Testing Data:\")\n",
    "print(test_data.describe())"
   ]
  },
  {
   "cell_type": "code",
   "execution_count": 9,
   "id": "aaa5112e",
   "metadata": {},
   "outputs": [
    {
     "name": "stdout",
     "output_type": "stream",
     "text": [
      "\n",
      "Training Dataset Description:\n",
      "The dataset contains information about cancer types.\n",
      "Columns in the dataset: Index(['Gene Description', 'Gene Accession Number', '1', 'call', '2', 'call.1',\n",
      "       '3', 'call.2', '4', 'call.3', '5', 'call.4', '6', 'call.5', '7',\n",
      "       'call.6', '8', 'call.7', '9', 'call.8', '10', 'call.9', '11', 'call.10',\n",
      "       '12', 'call.11', '13', 'call.12', '14', 'call.13', '15', 'call.14',\n",
      "       '16', 'call.15', '17', 'call.16', '18', 'call.17', '19', 'call.18',\n",
      "       '20', 'call.19', '21', 'call.20', '22', 'call.21', '23', 'call.22',\n",
      "       '24', 'call.23', '25', 'call.24', '26', 'call.25', '27', 'call.26',\n",
      "       '34', 'call.27', '35', 'call.28', '36', 'call.29', '37', 'call.30',\n",
      "       '38', 'call.31', '28', 'call.32', '29', 'call.33', '30', 'call.34',\n",
      "       '31', 'call.35', '32', 'call.36', '33', 'call.37'],\n",
      "      dtype='object')\n"
     ]
    }
   ],
   "source": [
    "print(\"\\nTraining Dataset Description:\")\n",
    "print(\"The dataset contains information about cancer types.\")\n",
    "print(\"Columns in the dataset:\", data.columns)"
   ]
  },
  {
   "cell_type": "code",
   "execution_count": 10,
   "id": "44f80791",
   "metadata": {
    "scrolled": true
   },
   "outputs": [
    {
     "name": "stdout",
     "output_type": "stream",
     "text": [
      "\n",
      "Testing Dataset Description:\n",
      "The dataset contains information about cancer types.\n",
      "Columns in the dataset: Index(['Gene Description', 'Gene Accession Number', '39', 'call', '40',\n",
      "       'call.1', '42', 'call.2', '47', 'call.3', '48', 'call.4', '49',\n",
      "       'call.5', '41', 'call.6', '43', 'call.7', '44', 'call.8', '45',\n",
      "       'call.9', '46', 'call.10', '70', 'call.11', '71', 'call.12', '72',\n",
      "       'call.13', '68', 'call.14', '69', 'call.15', '67', 'call.16', '55',\n",
      "       'call.17', '56', 'call.18', '59', 'call.19', '52', 'call.20', '53',\n",
      "       'call.21', '51', 'call.22', '50', 'call.23', '54', 'call.24', '57',\n",
      "       'call.25', '58', 'call.26', '60', 'call.27', '61', 'call.28', '65',\n",
      "       'call.29', '66', 'call.30', '63', 'call.31', '64', 'call.32', '62',\n",
      "       'call.33'],\n",
      "      dtype='object')\n"
     ]
    }
   ],
   "source": [
    "print(\"\\nTesting Dataset Description:\")\n",
    "print(\"The dataset contains information about cancer types.\")\n",
    "print(\"Columns in the dataset:\", test_data.columns)"
   ]
  },
  {
   "cell_type": "code",
   "execution_count": 11,
   "id": "9478e963",
   "metadata": {},
   "outputs": [
    {
     "name": "stdout",
     "output_type": "stream",
     "text": [
      "0\n",
      "0\n"
     ]
    }
   ],
   "source": [
    "#check for nulls\n",
    "print(data.isna().sum().max())\n",
    "print(test_data.isna().sum().max())"
   ]
  },
  {
   "cell_type": "code",
   "execution_count": 12,
   "id": "150428ac",
   "metadata": {
    "scrolled": true
   },
   "outputs": [
    {
     "name": "stdout",
     "output_type": "stream",
     "text": [
      "\n",
      "Missing values:\n",
      "Gene Description         0\n",
      "Gene Accession Number    0\n",
      "1                        0\n",
      "call                     0\n",
      "2                        0\n",
      "                        ..\n",
      "call.35                  0\n",
      "32                       0\n",
      "call.36                  0\n",
      "33                       0\n",
      "call.37                  0\n",
      "Length: 78, dtype: int64\n"
     ]
    }
   ],
   "source": [
    "print(\"\\nMissing values:\")\n",
    "print(data.isnull().sum())"
   ]
  },
  {
   "cell_type": "code",
   "execution_count": 13,
   "id": "2979987e",
   "metadata": {
    "scrolled": true
   },
   "outputs": [
    {
     "name": "stdout",
     "output_type": "stream",
     "text": [
      "\n",
      "Missing values:\n",
      "Gene Description         0\n",
      "Gene Accession Number    0\n",
      "39                       0\n",
      "call                     0\n",
      "40                       0\n",
      "                        ..\n",
      "call.31                  0\n",
      "64                       0\n",
      "call.32                  0\n",
      "62                       0\n",
      "call.33                  0\n",
      "Length: 70, dtype: int64\n"
     ]
    }
   ],
   "source": [
    "print(\"\\nMissing values:\")\n",
    "print(test_data.isnull().sum())"
   ]
  },
  {
   "cell_type": "code",
   "execution_count": 14,
   "id": "4c87faf1",
   "metadata": {},
   "outputs": [],
   "source": [
    "#drop 'call' columns\n",
    "cols = [col for col in data.columns if 'call' in col]\n",
    "train = data.drop(columns=cols)\n",
    "cols = [col for col in test_data.columns if 'call' in col]\n",
    "test = test_data.drop(columns=cols)"
   ]
  },
  {
   "cell_type": "code",
   "execution_count": 15,
   "id": "4023874f",
   "metadata": {},
   "outputs": [],
   "source": [
    "#Join all the data\n",
    "patients = [str(i) for i in range(1, 73, 1)]\n",
    "df_all = pd.concat([train, test], axis = 1)[patients]"
   ]
  },
  {
   "cell_type": "code",
   "execution_count": 16,
   "id": "3e728a35",
   "metadata": {},
   "outputs": [],
   "source": [
    "#transpose rows and columns\n",
    "df_all = df_all.T"
   ]
  },
  {
   "cell_type": "code",
   "execution_count": 17,
   "id": "cfacdbb4",
   "metadata": {},
   "outputs": [],
   "source": [
    "#Encoding Categorical Features\n",
    "\n",
    "df_all[\"patient\"] = pd.to_numeric(patients)\n",
    "labels[\"cancer\"]= pd.get_dummies(labels.cancer, drop_first=True)\n",
    "# add the cancer column to train data\n",
    "\n",
    "Final_Data = pd.merge(df_all, labels, on=\"patient\")"
   ]
  },
  {
   "cell_type": "code",
   "execution_count": 18,
   "id": "00469622",
   "metadata": {
    "scrolled": true
   },
   "outputs": [
    {
     "data": {
      "text/html": [
       "<div>\n",
       "<style scoped>\n",
       "    .dataframe tbody tr th:only-of-type {\n",
       "        vertical-align: middle;\n",
       "    }\n",
       "\n",
       "    .dataframe tbody tr th {\n",
       "        vertical-align: top;\n",
       "    }\n",
       "\n",
       "    .dataframe thead th {\n",
       "        text-align: right;\n",
       "    }\n",
       "</style>\n",
       "<table border=\"1\" class=\"dataframe\">\n",
       "  <thead>\n",
       "    <tr style=\"text-align: right;\">\n",
       "      <th></th>\n",
       "      <th>0</th>\n",
       "      <th>1</th>\n",
       "      <th>2</th>\n",
       "      <th>3</th>\n",
       "      <th>4</th>\n",
       "      <th>5</th>\n",
       "      <th>6</th>\n",
       "      <th>7</th>\n",
       "      <th>8</th>\n",
       "      <th>9</th>\n",
       "      <th>...</th>\n",
       "      <th>7121</th>\n",
       "      <th>7122</th>\n",
       "      <th>7123</th>\n",
       "      <th>7124</th>\n",
       "      <th>7125</th>\n",
       "      <th>7126</th>\n",
       "      <th>7127</th>\n",
       "      <th>7128</th>\n",
       "      <th>patient</th>\n",
       "      <th>cancer</th>\n",
       "    </tr>\n",
       "  </thead>\n",
       "  <tbody>\n",
       "    <tr>\n",
       "      <th>0</th>\n",
       "      <td>-214</td>\n",
       "      <td>-153</td>\n",
       "      <td>-58</td>\n",
       "      <td>88</td>\n",
       "      <td>-295</td>\n",
       "      <td>-558</td>\n",
       "      <td>199</td>\n",
       "      <td>-176</td>\n",
       "      <td>252</td>\n",
       "      <td>206</td>\n",
       "      <td>...</td>\n",
       "      <td>-125</td>\n",
       "      <td>389</td>\n",
       "      <td>-37</td>\n",
       "      <td>793</td>\n",
       "      <td>329</td>\n",
       "      <td>36</td>\n",
       "      <td>191</td>\n",
       "      <td>-37</td>\n",
       "      <td>1</td>\n",
       "      <td>0</td>\n",
       "    </tr>\n",
       "    <tr>\n",
       "      <th>1</th>\n",
       "      <td>-139</td>\n",
       "      <td>-73</td>\n",
       "      <td>-1</td>\n",
       "      <td>283</td>\n",
       "      <td>-264</td>\n",
       "      <td>-400</td>\n",
       "      <td>-330</td>\n",
       "      <td>-168</td>\n",
       "      <td>101</td>\n",
       "      <td>74</td>\n",
       "      <td>...</td>\n",
       "      <td>-36</td>\n",
       "      <td>442</td>\n",
       "      <td>-17</td>\n",
       "      <td>782</td>\n",
       "      <td>295</td>\n",
       "      <td>11</td>\n",
       "      <td>76</td>\n",
       "      <td>-14</td>\n",
       "      <td>2</td>\n",
       "      <td>0</td>\n",
       "    </tr>\n",
       "    <tr>\n",
       "      <th>2</th>\n",
       "      <td>-76</td>\n",
       "      <td>-49</td>\n",
       "      <td>-307</td>\n",
       "      <td>309</td>\n",
       "      <td>-376</td>\n",
       "      <td>-650</td>\n",
       "      <td>33</td>\n",
       "      <td>-367</td>\n",
       "      <td>206</td>\n",
       "      <td>-215</td>\n",
       "      <td>...</td>\n",
       "      <td>33</td>\n",
       "      <td>168</td>\n",
       "      <td>52</td>\n",
       "      <td>1138</td>\n",
       "      <td>777</td>\n",
       "      <td>41</td>\n",
       "      <td>228</td>\n",
       "      <td>-41</td>\n",
       "      <td>3</td>\n",
       "      <td>0</td>\n",
       "    </tr>\n",
       "    <tr>\n",
       "      <th>3</th>\n",
       "      <td>-135</td>\n",
       "      <td>-114</td>\n",
       "      <td>265</td>\n",
       "      <td>12</td>\n",
       "      <td>-419</td>\n",
       "      <td>-585</td>\n",
       "      <td>158</td>\n",
       "      <td>-253</td>\n",
       "      <td>49</td>\n",
       "      <td>31</td>\n",
       "      <td>...</td>\n",
       "      <td>218</td>\n",
       "      <td>174</td>\n",
       "      <td>-110</td>\n",
       "      <td>627</td>\n",
       "      <td>170</td>\n",
       "      <td>-50</td>\n",
       "      <td>126</td>\n",
       "      <td>-91</td>\n",
       "      <td>4</td>\n",
       "      <td>0</td>\n",
       "    </tr>\n",
       "    <tr>\n",
       "      <th>4</th>\n",
       "      <td>-106</td>\n",
       "      <td>-125</td>\n",
       "      <td>-76</td>\n",
       "      <td>168</td>\n",
       "      <td>-230</td>\n",
       "      <td>-284</td>\n",
       "      <td>4</td>\n",
       "      <td>-122</td>\n",
       "      <td>70</td>\n",
       "      <td>252</td>\n",
       "      <td>...</td>\n",
       "      <td>57</td>\n",
       "      <td>504</td>\n",
       "      <td>-26</td>\n",
       "      <td>250</td>\n",
       "      <td>314</td>\n",
       "      <td>14</td>\n",
       "      <td>56</td>\n",
       "      <td>-25</td>\n",
       "      <td>5</td>\n",
       "      <td>0</td>\n",
       "    </tr>\n",
       "  </tbody>\n",
       "</table>\n",
       "<p>5 rows × 7131 columns</p>\n",
       "</div>"
      ],
      "text/plain": [
       "     0    1    2    3    4    5    6    7    8    9  ...  7121  7122  7123  \\\n",
       "0 -214 -153  -58   88 -295 -558  199 -176  252  206  ...  -125   389   -37   \n",
       "1 -139  -73   -1  283 -264 -400 -330 -168  101   74  ...   -36   442   -17   \n",
       "2  -76  -49 -307  309 -376 -650   33 -367  206 -215  ...    33   168    52   \n",
       "3 -135 -114  265   12 -419 -585  158 -253   49   31  ...   218   174  -110   \n",
       "4 -106 -125  -76  168 -230 -284    4 -122   70  252  ...    57   504   -26   \n",
       "\n",
       "   7124  7125  7126  7127  7128  patient  cancer  \n",
       "0   793   329    36   191   -37        1       0  \n",
       "1   782   295    11    76   -14        2       0  \n",
       "2  1138   777    41   228   -41        3       0  \n",
       "3   627   170   -50   126   -91        4       0  \n",
       "4   250   314    14    56   -25        5       0  \n",
       "\n",
       "[5 rows x 7131 columns]"
      ]
     },
     "execution_count": 18,
     "metadata": {},
     "output_type": "execute_result"
    }
   ],
   "source": [
    "Final_Data.head()"
   ]
  },
  {
   "cell_type": "code",
   "execution_count": 19,
   "id": "c0680748",
   "metadata": {
    "scrolled": false
   },
   "outputs": [
    {
     "data": {
      "text/plain": [
       "0    47\n",
       "1    25\n",
       "Name: cancer, dtype: int64"
      ]
     },
     "execution_count": 19,
     "metadata": {},
     "output_type": "execute_result"
    }
   ],
   "source": [
    "Final_Data['cancer'].value_counts()"
   ]
  },
  {
   "cell_type": "code",
   "execution_count": 20,
   "id": "b397f465",
   "metadata": {},
   "outputs": [
    {
     "data": {
      "image/png": "[encoded data removed]",
      "text/plain": [
       "<Figure size 400x800 with 1 Axes>"
      ]
     },
     "metadata": {},
     "output_type": "display_data"
    }
   ],
   "source": [
    "import seaborn as sns\n",
    "import matplotlib.pyplot as plt\n",
    "\n",
    "plt.figure(figsize=(4, 8))\n",
    "colors = [\"#FF0000\", \"#0000FF\"]  # Red for AML and Blue for ALL\n",
    "\n",
    "sns.countplot(x='cancer', data=Final_Data, palette=colors)\n",
    "plt.title('Class Distributions \\n (0: AML || 1: ALL)', fontsize=14)\n",
    "plt.show()\n"
   ]
  },
  {
   "cell_type": "code",
   "execution_count": 21,
   "id": "1cf10b2f",
   "metadata": {},
   "outputs": [],
   "source": [
    "X = Final_Data.drop('cancer', axis=1)  # Features\n",
    "y = Final_Data['cancer']  # Target"
   ]
  },
  {
   "cell_type": "code",
   "execution_count": 22,
   "id": "b30e7b5c",
   "metadata": {
    "scrolled": false
   },
   "outputs": [
    {
     "data": {
      "text/html": [
       "<div>\n",
       "<style scoped>\n",
       "    .dataframe tbody tr th:only-of-type {\n",
       "        vertical-align: middle;\n",
       "    }\n",
       "\n",
       "    .dataframe tbody tr th {\n",
       "        vertical-align: top;\n",
       "    }\n",
       "\n",
       "    .dataframe thead th {\n",
       "        text-align: right;\n",
       "    }\n",
       "</style>\n",
       "<table border=\"1\" class=\"dataframe\">\n",
       "  <thead>\n",
       "    <tr style=\"text-align: right;\">\n",
       "      <th></th>\n",
       "      <th>0</th>\n",
       "      <th>1</th>\n",
       "      <th>2</th>\n",
       "      <th>3</th>\n",
       "      <th>4</th>\n",
       "      <th>5</th>\n",
       "      <th>6</th>\n",
       "      <th>7</th>\n",
       "      <th>8</th>\n",
       "      <th>9</th>\n",
       "      <th>...</th>\n",
       "      <th>7120</th>\n",
       "      <th>7121</th>\n",
       "      <th>7122</th>\n",
       "      <th>7123</th>\n",
       "      <th>7124</th>\n",
       "      <th>7125</th>\n",
       "      <th>7126</th>\n",
       "      <th>7127</th>\n",
       "      <th>7128</th>\n",
       "      <th>patient</th>\n",
       "    </tr>\n",
       "  </thead>\n",
       "  <tbody>\n",
       "    <tr>\n",
       "      <th>0</th>\n",
       "      <td>-214</td>\n",
       "      <td>-153</td>\n",
       "      <td>-58</td>\n",
       "      <td>88</td>\n",
       "      <td>-295</td>\n",
       "      <td>-558</td>\n",
       "      <td>199</td>\n",
       "      <td>-176</td>\n",
       "      <td>252</td>\n",
       "      <td>206</td>\n",
       "      <td>...</td>\n",
       "      <td>511</td>\n",
       "      <td>-125</td>\n",
       "      <td>389</td>\n",
       "      <td>-37</td>\n",
       "      <td>793</td>\n",
       "      <td>329</td>\n",
       "      <td>36</td>\n",
       "      <td>191</td>\n",
       "      <td>-37</td>\n",
       "      <td>1</td>\n",
       "    </tr>\n",
       "    <tr>\n",
       "      <th>1</th>\n",
       "      <td>-139</td>\n",
       "      <td>-73</td>\n",
       "      <td>-1</td>\n",
       "      <td>283</td>\n",
       "      <td>-264</td>\n",
       "      <td>-400</td>\n",
       "      <td>-330</td>\n",
       "      <td>-168</td>\n",
       "      <td>101</td>\n",
       "      <td>74</td>\n",
       "      <td>...</td>\n",
       "      <td>837</td>\n",
       "      <td>-36</td>\n",
       "      <td>442</td>\n",
       "      <td>-17</td>\n",
       "      <td>782</td>\n",
       "      <td>295</td>\n",
       "      <td>11</td>\n",
       "      <td>76</td>\n",
       "      <td>-14</td>\n",
       "      <td>2</td>\n",
       "    </tr>\n",
       "    <tr>\n",
       "      <th>2</th>\n",
       "      <td>-76</td>\n",
       "      <td>-49</td>\n",
       "      <td>-307</td>\n",
       "      <td>309</td>\n",
       "      <td>-376</td>\n",
       "      <td>-650</td>\n",
       "      <td>33</td>\n",
       "      <td>-367</td>\n",
       "      <td>206</td>\n",
       "      <td>-215</td>\n",
       "      <td>...</td>\n",
       "      <td>1199</td>\n",
       "      <td>33</td>\n",
       "      <td>168</td>\n",
       "      <td>52</td>\n",
       "      <td>1138</td>\n",
       "      <td>777</td>\n",
       "      <td>41</td>\n",
       "      <td>228</td>\n",
       "      <td>-41</td>\n",
       "      <td>3</td>\n",
       "    </tr>\n",
       "    <tr>\n",
       "      <th>3</th>\n",
       "      <td>-135</td>\n",
       "      <td>-114</td>\n",
       "      <td>265</td>\n",
       "      <td>12</td>\n",
       "      <td>-419</td>\n",
       "      <td>-585</td>\n",
       "      <td>158</td>\n",
       "      <td>-253</td>\n",
       "      <td>49</td>\n",
       "      <td>31</td>\n",
       "      <td>...</td>\n",
       "      <td>835</td>\n",
       "      <td>218</td>\n",
       "      <td>174</td>\n",
       "      <td>-110</td>\n",
       "      <td>627</td>\n",
       "      <td>170</td>\n",
       "      <td>-50</td>\n",
       "      <td>126</td>\n",
       "      <td>-91</td>\n",
       "      <td>4</td>\n",
       "    </tr>\n",
       "    <tr>\n",
       "      <th>4</th>\n",
       "      <td>-106</td>\n",
       "      <td>-125</td>\n",
       "      <td>-76</td>\n",
       "      <td>168</td>\n",
       "      <td>-230</td>\n",
       "      <td>-284</td>\n",
       "      <td>4</td>\n",
       "      <td>-122</td>\n",
       "      <td>70</td>\n",
       "      <td>252</td>\n",
       "      <td>...</td>\n",
       "      <td>649</td>\n",
       "      <td>57</td>\n",
       "      <td>504</td>\n",
       "      <td>-26</td>\n",
       "      <td>250</td>\n",
       "      <td>314</td>\n",
       "      <td>14</td>\n",
       "      <td>56</td>\n",
       "      <td>-25</td>\n",
       "      <td>5</td>\n",
       "    </tr>\n",
       "    <tr>\n",
       "      <th>...</th>\n",
       "      <td>...</td>\n",
       "      <td>...</td>\n",
       "      <td>...</td>\n",
       "      <td>...</td>\n",
       "      <td>...</td>\n",
       "      <td>...</td>\n",
       "      <td>...</td>\n",
       "      <td>...</td>\n",
       "      <td>...</td>\n",
       "      <td>...</td>\n",
       "      <td>...</td>\n",
       "      <td>...</td>\n",
       "      <td>...</td>\n",
       "      <td>...</td>\n",
       "      <td>...</td>\n",
       "      <td>...</td>\n",
       "      <td>...</td>\n",
       "      <td>...</td>\n",
       "      <td>...</td>\n",
       "      <td>...</td>\n",
       "      <td>...</td>\n",
       "    </tr>\n",
       "    <tr>\n",
       "      <th>67</th>\n",
       "      <td>-154</td>\n",
       "      <td>-136</td>\n",
       "      <td>49</td>\n",
       "      <td>180</td>\n",
       "      <td>-257</td>\n",
       "      <td>-273</td>\n",
       "      <td>141</td>\n",
       "      <td>-123</td>\n",
       "      <td>52</td>\n",
       "      <td>878</td>\n",
       "      <td>...</td>\n",
       "      <td>540</td>\n",
       "      <td>13</td>\n",
       "      <td>1075</td>\n",
       "      <td>-45</td>\n",
       "      <td>524</td>\n",
       "      <td>249</td>\n",
       "      <td>40</td>\n",
       "      <td>-68</td>\n",
       "      <td>-1</td>\n",
       "      <td>68</td>\n",
       "    </tr>\n",
       "    <tr>\n",
       "      <th>68</th>\n",
       "      <td>-79</td>\n",
       "      <td>-118</td>\n",
       "      <td>-30</td>\n",
       "      <td>68</td>\n",
       "      <td>-110</td>\n",
       "      <td>-264</td>\n",
       "      <td>-28</td>\n",
       "      <td>-61</td>\n",
       "      <td>40</td>\n",
       "      <td>-217</td>\n",
       "      <td>...</td>\n",
       "      <td>617</td>\n",
       "      <td>-34</td>\n",
       "      <td>738</td>\n",
       "      <td>11</td>\n",
       "      <td>742</td>\n",
       "      <td>234</td>\n",
       "      <td>72</td>\n",
       "      <td>109</td>\n",
       "      <td>-30</td>\n",
       "      <td>69</td>\n",
       "    </tr>\n",
       "    <tr>\n",
       "      <th>69</th>\n",
       "      <td>-55</td>\n",
       "      <td>-44</td>\n",
       "      <td>12</td>\n",
       "      <td>129</td>\n",
       "      <td>-108</td>\n",
       "      <td>-301</td>\n",
       "      <td>-222</td>\n",
       "      <td>-133</td>\n",
       "      <td>136</td>\n",
       "      <td>320</td>\n",
       "      <td>...</td>\n",
       "      <td>318</td>\n",
       "      <td>35</td>\n",
       "      <td>241</td>\n",
       "      <td>-66</td>\n",
       "      <td>320</td>\n",
       "      <td>174</td>\n",
       "      <td>-4</td>\n",
       "      <td>176</td>\n",
       "      <td>40</td>\n",
       "      <td>70</td>\n",
       "    </tr>\n",
       "    <tr>\n",
       "      <th>70</th>\n",
       "      <td>-59</td>\n",
       "      <td>-114</td>\n",
       "      <td>23</td>\n",
       "      <td>146</td>\n",
       "      <td>-171</td>\n",
       "      <td>-227</td>\n",
       "      <td>-73</td>\n",
       "      <td>-126</td>\n",
       "      <td>-6</td>\n",
       "      <td>149</td>\n",
       "      <td>...</td>\n",
       "      <td>760</td>\n",
       "      <td>-38</td>\n",
       "      <td>201</td>\n",
       "      <td>-55</td>\n",
       "      <td>348</td>\n",
       "      <td>208</td>\n",
       "      <td>0</td>\n",
       "      <td>74</td>\n",
       "      <td>-12</td>\n",
       "      <td>71</td>\n",
       "    </tr>\n",
       "    <tr>\n",
       "      <th>71</th>\n",
       "      <td>-131</td>\n",
       "      <td>-126</td>\n",
       "      <td>-50</td>\n",
       "      <td>211</td>\n",
       "      <td>-206</td>\n",
       "      <td>-287</td>\n",
       "      <td>-34</td>\n",
       "      <td>-114</td>\n",
       "      <td>62</td>\n",
       "      <td>341</td>\n",
       "      <td>...</td>\n",
       "      <td>697</td>\n",
       "      <td>3</td>\n",
       "      <td>1046</td>\n",
       "      <td>27</td>\n",
       "      <td>874</td>\n",
       "      <td>393</td>\n",
       "      <td>34</td>\n",
       "      <td>237</td>\n",
       "      <td>-2</td>\n",
       "      <td>72</td>\n",
       "    </tr>\n",
       "  </tbody>\n",
       "</table>\n",
       "<p>72 rows × 7130 columns</p>\n",
       "</div>"
      ],
      "text/plain": [
       "      0    1    2    3    4    5    6    7    8    9  ...  7120  7121  7122  \\\n",
       "0  -214 -153  -58   88 -295 -558  199 -176  252  206  ...   511  -125   389   \n",
       "1  -139  -73   -1  283 -264 -400 -330 -168  101   74  ...   837   -36   442   \n",
       "2   -76  -49 -307  309 -376 -650   33 -367  206 -215  ...  1199    33   168   \n",
       "3  -135 -114  265   12 -419 -585  158 -253   49   31  ...   835   218   174   \n",
       "4  -106 -125  -76  168 -230 -284    4 -122   70  252  ...   649    57   504   \n",
       "..  ...  ...  ...  ...  ...  ...  ...  ...  ...  ...  ...   ...   ...   ...   \n",
       "67 -154 -136   49  180 -257 -273  141 -123   52  878  ...   540    13  1075   \n",
       "68  -79 -118  -30   68 -110 -264  -28  -61   40 -217  ...   617   -34   738   \n",
       "69  -55  -44   12  129 -108 -301 -222 -133  136  320  ...   318    35   241   \n",
       "70  -59 -114   23  146 -171 -227  -73 -126   -6  149  ...   760   -38   201   \n",
       "71 -131 -126  -50  211 -206 -287  -34 -114   62  341  ...   697     3  1046   \n",
       "\n",
       "    7123  7124  7125  7126  7127  7128  patient  \n",
       "0    -37   793   329    36   191   -37        1  \n",
       "1    -17   782   295    11    76   -14        2  \n",
       "2     52  1138   777    41   228   -41        3  \n",
       "3   -110   627   170   -50   126   -91        4  \n",
       "4    -26   250   314    14    56   -25        5  \n",
       "..   ...   ...   ...   ...   ...   ...      ...  \n",
       "67   -45   524   249    40   -68    -1       68  \n",
       "68    11   742   234    72   109   -30       69  \n",
       "69   -66   320   174    -4   176    40       70  \n",
       "70   -55   348   208     0    74   -12       71  \n",
       "71    27   874   393    34   237    -2       72  \n",
       "\n",
       "[72 rows x 7130 columns]"
      ]
     },
     "execution_count": 22,
     "metadata": {},
     "output_type": "execute_result"
    }
   ],
   "source": [
    "X"
   ]
  },
  {
   "cell_type": "code",
   "execution_count": 23,
   "id": "bf6d716d",
   "metadata": {},
   "outputs": [
    {
     "data": {
      "text/plain": [
       "0     0\n",
       "1     0\n",
       "2     0\n",
       "3     0\n",
       "4     0\n",
       "     ..\n",
       "67    0\n",
       "68    0\n",
       "69    0\n",
       "70    0\n",
       "71    0\n",
       "Name: cancer, Length: 72, dtype: uint8"
      ]
     },
     "execution_count": 23,
     "metadata": {},
     "output_type": "execute_result"
    }
   ],
   "source": [
    "y"
   ]
  },
  {
   "cell_type": "code",
   "execution_count": 24,
   "id": "ff3aa43d",
   "metadata": {},
   "outputs": [],
   "source": [
    "# Split the dataset\n",
    "X_train, X_test, y_train, y_test =  train_test_split(X,y,test_size = 0.25, random_state= 0)"
   ]
  },
  {
   "cell_type": "code",
   "execution_count": 25,
   "id": "84bcb79f",
   "metadata": {
    "scrolled": true
   },
   "outputs": [
    {
     "data": {
      "text/plain": [
       "<Axes: ylabel='Density'>"
      ]
     },
     "execution_count": 25,
     "metadata": {},
     "output_type": "execute_result"
    },
    {
     "data": {
      "image/png": "[encoded data removed]",
      "text/plain": [
       "<Figure size 640x480 with 1 Axes>"
      ]
     },
     "metadata": {},
     "output_type": "display_data"
    }
   ],
   "source": [
    "#before feature scaling\n",
    "X_train = pd.DataFrame(X_train)\n",
    "X_train.plot(kind=\"kde\", legend=None)"
   ]
  },
  {
   "cell_type": "code",
   "execution_count": 26,
   "id": "f9b50471",
   "metadata": {},
   "outputs": [],
   "source": [
    "from sklearn.preprocessing import StandardScaler\n",
    "\n",
    "# Convert feature names to strings\n",
    "X_train.columns = X_train.columns.astype(str)\n",
    "X_test.columns = X_test.columns.astype(str)\n",
    "\n",
    "# Scale the features\n",
    "scaler = StandardScaler()\n",
    "X_train_scaled = scaler.fit_transform(X_train)\n",
    "X_test_scaled = scaler.transform(X_test)\n"
   ]
  },
  {
   "cell_type": "code",
   "execution_count": 27,
   "id": "3fa83a72",
   "metadata": {
    "scrolled": true
   },
   "outputs": [
    {
     "name": "stdout",
     "output_type": "stream",
     "text": [
      "Shape of X_train: (54, 7130)\n",
      "Shape of y_train: (54,)\n",
      "Shape of X_test: (18, 7130)\n",
      "Shape of y_test: (18,)\n"
     ]
    }
   ],
   "source": [
    "# Display the shape\n",
    "print(\"Shape of X_train:\", X_train_scaled.shape)\n",
    "print(\"Shape of y_train:\", y_train.shape)\n",
    "print(\"Shape of X_test:\", X_test_scaled.shape)\n",
    "print(\"Shape of y_test:\", y_test.shape)"
   ]
  },
  {
   "cell_type": "code",
   "execution_count": 28,
   "id": "7ce60dd4",
   "metadata": {
    "scrolled": true
   },
   "outputs": [
    {
     "data": {
      "text/plain": [
       "<Axes: ylabel='Density'>"
      ]
     },
     "execution_count": 28,
     "metadata": {},
     "output_type": "execute_result"
    },
    {
     "data": {
      "image/png": "[encoded data removed]",
      "text/plain": [
       "<Figure size 640x480 with 1 Axes>"
      ]
     },
     "metadata": {},
     "output_type": "display_data"
    }
   ],
   "source": [
    "#after feature scaling\n",
    "X_train_scaled = pd.DataFrame(X_train_scaled)\n",
    "X_train_scaled.plot(kind=\"kde\", legend=None)"
   ]
  },
  {
   "cell_type": "code",
   "execution_count": 29,
   "id": "5205a421",
   "metadata": {},
   "outputs": [
    {
     "name": "stdout",
     "output_type": "stream",
     "text": [
      "38 features explain around 90% of the variance. From 7129 features to 38, not too bad.\n"
     ]
    },
    {
     "data": {
      "text/plain": [
       "<BarContainer object of 38 artists>"
      ]
     },
     "execution_count": 29,
     "metadata": {},
     "output_type": "execute_result"
    },
    {
     "data": {
      "image/png": "[encoded data removed]",
      "text/plain": [
       "<Figure size 640x480 with 1 Axes>"
      ]
     },
     "metadata": {},
     "output_type": "display_data"
    }
   ],
   "source": [
    "# Dimentionality reduction using Principal Component Analysis(PCA)\n",
    "from sklearn.decomposition import PCA\n",
    "pca = PCA()\n",
    "pca.fit_transform(X_train_scaled)\n",
    "\n",
    "total = sum(pca.explained_variance_)\n",
    "k = 0\n",
    "current_variance = 0\n",
    "while current_variance/total < 0.90:\n",
    "    current_variance += pca.explained_variance_[k]\n",
    "    k = k + 1\n",
    "    \n",
    "print(k, \" features explain around 90% of the variance. From 7129 features to \", k, \", not too bad.\", sep='')\n",
    "\n",
    "pca = PCA(n_components=k)\n",
    "X_train_pca = pca.fit(X_train_scaled)\n",
    "X_train_pca = pca.transform(X_train_scaled)\n",
    "X_test_pca = pca.transform(X_test_scaled)\n",
    "\n",
    "var_exp = pca.explained_variance_ratio_.cumsum()\n",
    "var_exp = var_exp*100\n",
    "plt.bar(range(k), var_exp,color = 'y')"
   ]
  },
  {
   "cell_type": "code",
   "execution_count": 30,
   "id": "d02958f9",
   "metadata": {
    "scrolled": false
   },
   "outputs": [
    {
     "data": {
      "text/plain": [
       "38"
      ]
     },
     "execution_count": 30,
     "metadata": {},
     "output_type": "execute_result"
    }
   ],
   "source": [
    "pca.n_components_ "
   ]
  },
  {
   "cell_type": "code",
   "execution_count": 31,
   "id": "e5971e34",
   "metadata": {
    "scrolled": true
   },
   "outputs": [
    {
     "name": "stdout",
     "output_type": "stream",
     "text": [
      "<class 'numpy.ndarray'>\n",
      "<class 'pandas.core.series.Series'>\n"
     ]
    }
   ],
   "source": [
    "print(type(X_train_pca))\n",
    "print(type(y_train))\n"
   ]
  },
  {
   "cell_type": "code",
   "execution_count": 32,
   "id": "5759dc7e",
   "metadata": {},
   "outputs": [
    {
     "name": "stdout",
     "output_type": "stream",
     "text": [
      "Defaulting to user installation because normal site-packages is not writeable\n",
      "Requirement already satisfied: scikit-learn in c:\\users\\rdp\\appdata\\roaming\\python\\python311\\site-packages (1.3.1)\n",
      "Requirement already satisfied: numpy<2.0,>=1.17.3 in c:\\programdata\\anaconda3\\lib\\site-packages (from scikit-learn) (1.24.3)\n",
      "Requirement already satisfied: scipy>=1.5.0 in c:\\programdata\\anaconda3\\lib\\site-packages (from scikit-learn) (1.10.1)\n",
      "Requirement already satisfied: joblib>=1.1.1 in c:\\programdata\\anaconda3\\lib\\site-packages (from scikit-learn) (1.2.0)\n",
      "Requirement already satisfied: threadpoolctl>=2.0.0 in c:\\programdata\\anaconda3\\lib\\site-packages (from scikit-learn) (2.2.0)\n",
      "Note: you may need to restart the kernel to use updated packages.\n"
     ]
    }
   ],
   "source": [
    "pip install --upgrade scikit-learn\n"
   ]
  },
  {
   "cell_type": "code",
   "execution_count": 33,
   "id": "15f63fb8",
   "metadata": {},
   "outputs": [
    {
     "name": "stdout",
     "output_type": "stream",
     "text": [
      "scikit-learn version: 1.3.1\n"
     ]
    }
   ],
   "source": [
    "import sklearn\n",
    "print(\"scikit-learn version:\", sklearn.__version__)\n"
   ]
  },
  {
   "cell_type": "code",
   "execution_count": 34,
   "id": "fc5a413b",
   "metadata": {},
   "outputs": [
    {
     "name": "stdout",
     "output_type": "stream",
     "text": [
      "Defaulting to user installation because normal site-packages is not writeable\n",
      "Requirement already satisfied: imbalanced-learn in c:\\users\\rdp\\appdata\\roaming\\python\\python311\\site-packages (0.11.0)\n",
      "Requirement already satisfied: numpy>=1.17.3 in c:\\programdata\\anaconda3\\lib\\site-packages (from imbalanced-learn) (1.24.3)\n",
      "Requirement already satisfied: scipy>=1.5.0 in c:\\programdata\\anaconda3\\lib\\site-packages (from imbalanced-learn) (1.10.1)\n",
      "Requirement already satisfied: scikit-learn>=1.0.2 in c:\\users\\rdp\\appdata\\roaming\\python\\python311\\site-packages (from imbalanced-learn) (1.3.1)\n",
      "Requirement already satisfied: joblib>=1.1.1 in c:\\programdata\\anaconda3\\lib\\site-packages (from imbalanced-learn) (1.2.0)\n",
      "Requirement already satisfied: threadpoolctl>=2.0.0 in c:\\programdata\\anaconda3\\lib\\site-packages (from imbalanced-learn) (2.2.0)\n",
      "Note: you may need to restart the kernel to use updated packages.\n"
     ]
    }
   ],
   "source": [
    "pip install --upgrade imbalanced-learn\n"
   ]
  },
  {
   "cell_type": "code",
   "execution_count": 35,
   "id": "7f5f9d0d",
   "metadata": {},
   "outputs": [
    {
     "name": "stdout",
     "output_type": "stream",
     "text": [
      "imbalanced-learn version: 0.11.0\n"
     ]
    }
   ],
   "source": [
    "import imblearn\n",
    "print(\"imbalanced-learn version:\", imblearn.__version__)\n"
   ]
  },
  {
   "cell_type": "code",
   "execution_count": 36,
   "id": "63faa52d",
   "metadata": {},
   "outputs": [
    {
     "name": "stdout",
     "output_type": "stream",
     "text": [
      "Before Upsampling:-\n",
      "Counter({0: 39, 1: 15})\n",
      "After Upsampling:-\n",
      "Counter({0: 39, 1: 39})\n"
     ]
    }
   ],
   "source": [
    "from sklearn.utils import resample\n",
    "from collections import Counter\n",
    "\n",
    "print(\"Before Upsampling:-\")\n",
    "print(Counter(y_train))\n",
    "\n",
    "\n",
    "# Let's use SMOTE to oversample\n",
    "from imblearn.over_sampling import SMOTE\n",
    "oversample = SMOTE()\n",
    "X_train_ov, y_train_ov = oversample.fit_resample(X_train_pca,y_train)\n",
    "\n",
    "print(\"After Upsampling:-\")\n",
    "print(Counter(y_train_ov))"
   ]
  },
  {
   "cell_type": "code",
   "execution_count": 37,
   "id": "36e8f3b8",
   "metadata": {
    "scrolled": true
   },
   "outputs": [
    {
     "name": "stdout",
     "output_type": "stream",
     "text": [
      "Data type of y_train: uint8\n",
      "Data type of y_test: uint8\n"
     ]
    }
   ],
   "source": [
    "# data types of y_train and y_test\n",
    "print(\"Data type of y_train:\", y_train.dtype)\n",
    "print(\"Data type of y_test:\", y_test.dtype)"
   ]
  },
  {
   "cell_type": "code",
   "execution_count": 42,
   "id": "e67d6717",
   "metadata": {},
   "outputs": [
    {
     "name": "stdout",
     "output_type": "stream",
     "text": [
      "SVM Linear Kernel Accuracy: 0.6666666666666666\n",
      "Mean Squared Error for SVM Linear Kernel: 0.3333333333333333\n",
      "\n",
      "SVM Polynomial Kernel Accuracy: 0.4444444444444444\n",
      "Mean Squared Error for SVM Polynomial Kernel: 0.5555555555555556\n",
      "\n",
      "SVM RBF Kernel Accuracy: 0.7777777777777778\n",
      "Mean Squared Error for SVM RBF Kernel: 0.2222222222222222\n",
      "\n",
      "SVM F1-score: 0.7722222222222221\n",
      "SVM Precision: 0.8518518518518517\n",
      "SVM Recall: 0.7777777777777778\n",
      "SVM Confusion Matrix:\n",
      " [[8 0]\n",
      " [4 6]]\n",
      "SVM Classification Report:\n",
      "               precision    recall  f1-score   support\n",
      "\n",
      "           0       0.67      1.00      0.80         8\n",
      "           1       1.00      0.60      0.75        10\n",
      "\n",
      "    accuracy                           0.78        18\n",
      "   macro avg       0.83      0.80      0.77        18\n",
      "weighted avg       0.85      0.78      0.77        18\n",
      "\n"
     ]
    }
   ],
   "source": [
    "from sklearn.svm import SVC\n",
    "from sklearn.metrics import accuracy_score, mean_squared_error\n",
    "\n",
    "# SVM with Linear Kernel\n",
    "svm_linear = SVC(kernel='linear')\n",
    "svm_linear.fit(X_train_ov, y_train_ov)\n",
    "svm_linear_predictions = svm_linear.predict(X_test_pca)\n",
    "svm_linear_accuracy = accuracy_score(y_test, svm_linear_predictions)\n",
    "print(\"SVM Linear Kernel Accuracy:\", svm_linear_accuracy)\n",
    "svm_linear_mse = mean_squared_error(y_test, svm_linear_predictions)\n",
    "print(\"Mean Squared Error for SVM Linear Kernel:\", svm_linear_mse)\n",
    "\n",
    "# SVM with Polynomial Kernel\n",
    "svm_poly = SVC(kernel='poly', degree=3)\n",
    "svm_poly.fit(X_train_ov, y_train_ov)\n",
    "svm_poly_predictions = svm_poly.predict(X_test_pca)\n",
    "svm_poly_accuracy = accuracy_score(y_test, svm_poly_predictions)\n",
    "print(\"\\nSVM Polynomial Kernel Accuracy:\", svm_poly_accuracy)\n",
    "svm_poly_mse = mean_squared_error(y_test, svm_poly_predictions)\n",
    "print(\"Mean Squared Error for SVM Polynomial Kernel:\", svm_poly_mse)\n",
    "\n",
    "\n",
    "# SVM with RBF Kernel\n",
    "svm_rbf = SVC(kernel='rbf')\n",
    "svm_rbf.fit(X_train_ov, y_train_ov)\n",
    "svm_rbf_predictions = svm_rbf.predict(X_test_pca)\n",
    "svm_rbf_accuracy = accuracy_score(y_test, svm_rbf_predictions)\n",
    "print(\"\\nSVM RBF Kernel Accuracy:\", svm_rbf_accuracy)\n",
    "svm_rbf_mse = mean_squared_error(y_test, svm_rbf_predictions)\n",
    "print(\"Mean Squared Error for SVM RBF Kernel:\", svm_rbf_mse)\n",
    "\n",
    "\n",
    "# Calculating F1-score, precision, recall, and confusion matrix for SVM\n",
    "svm_f1 = f1_score(y_test, svm_rbf_predictions, average='weighted', zero_division=1)\n",
    "svm_precision = precision_score(y_test, svm_rbf_predictions, average='weighted', zero_division=1)\n",
    "svm_recall = recall_score(y_test, svm_rbf_predictions, average='weighted')\n",
    "svm_confusion_matrix = confusion_matrix(y_test, svm_rbf_predictions)\n",
    "svm_classification_report = classification_report(y_test, svm_rbf_predictions, zero_division=1)\n",
    "\n",
    "print(\"\\nSVM F1-score:\", svm_f1)\n",
    "print(\"SVM Precision:\", svm_precision)\n",
    "print(\"SVM Recall:\", svm_recall)\n",
    "print(\"SVM Confusion Matrix:\\n\", svm_confusion_matrix)\n",
    "print(\"SVM Classification Report:\\n\", svm_classification_report)"
   ]
  },
  {
   "cell_type": "code",
   "execution_count": 43,
   "id": "62f35d46",
   "metadata": {
    "scrolled": true
   },
   "outputs": [
    {
     "name": "stdout",
     "output_type": "stream",
     "text": [
      "Random Forest Accuracy: 0.7222222222222222\n",
      "Mean Squared Error for Random Forest: 0.2777777777777778\n",
      "\n",
      "Random Forest F1-score: 0.7089947089947091\n",
      "Random Forest Precision: 0.8290598290598291\n",
      "Random Forest Recall: 0.7222222222222222\n",
      "Random Forest Confusion Matrix:\n",
      " [[8 0]\n",
      " [5 5]]\n",
      "Random Forest Classification Report:\n",
      "               precision    recall  f1-score   support\n",
      "\n",
      "           0       0.62      1.00      0.76         8\n",
      "           1       1.00      0.50      0.67        10\n",
      "\n",
      "    accuracy                           0.72        18\n",
      "   macro avg       0.81      0.75      0.71        18\n",
      "weighted avg       0.83      0.72      0.71        18\n",
      "\n"
     ]
    }
   ],
   "source": [
    "# Random Forest model\n",
    "rf_model = RandomForestClassifier(bootstrap=False, max_features=0.6, min_samples_leaf=8,\n",
    "                       min_samples_split=3, n_estimators=70)\n",
    "rf_model.fit(X_train_ov, y_train_ov)\n",
    "rf_model_predictions = rf_model.predict(X_test_pca)\n",
    "\n",
    "# Reshape predictions to a 2D array with a single column\n",
    "rf_model_predictions = rf_model_predictions.reshape(-1, 1)\n",
    "rf_accuracy = accuracy_score(y_test, rf_model_predictions)\n",
    "print(\"Random Forest Accuracy:\", rf_accuracy)\n",
    "rf_mse = mean_squared_error(y_test, rf_model_predictions)\n",
    "print(\"Mean Squared Error for Random Forest:\", rf_mse)\n",
    "\n",
    "rf_f1 = f1_score(y_test, rf_model_predictions, average='weighted', zero_division=1)\n",
    "rf_precision = precision_score(y_test, rf_model_predictions, average='weighted', zero_division=1)\n",
    "rf_recall = recall_score(y_test, rf_model_predictions, average='weighted')\n",
    "rf_confusion_matrix = confusion_matrix(y_test, rf_model_predictions)\n",
    "rf_classification_report = classification_report(y_test, rf_model_predictions, zero_division=1)\n",
    "\n",
    "print(\"\\nRandom Forest F1-score:\", rf_f1)\n",
    "print(\"Random Forest Precision:\", rf_precision)\n",
    "print(\"Random Forest Recall:\", rf_recall)\n",
    "print(\"Random Forest Confusion Matrix:\\n\", rf_confusion_matrix)\n",
    "print(\"Random Forest Classification Report:\\n\", rf_classification_report)"
   ]
  },
  {
   "cell_type": "code",
   "execution_count": 44,
   "id": "63d5c462",
   "metadata": {
    "scrolled": true
   },
   "outputs": [
    {
     "name": "stdout",
     "output_type": "stream",
     "text": [
      "Best MLP Regressor parameters: {'activation': 'tanh', 'alpha': 0.01, 'hidden_layer_sizes': (100, 50)}\n",
      "Mean Squared Error: 0.16397561026565177\n",
      "Best Negative MSE (best score): -0.2994309822922902\n"
     ]
    }
   ],
   "source": [
    "from sklearn.neural_network import MLPRegressor\n",
    "from sklearn.model_selection import GridSearchCV\n",
    "from sklearn.metrics import mean_squared_error\n",
    "\n",
    "# Define the parameter grid for hyperparameter search\n",
    "mlp_param_grid = {\n",
    "    'hidden_layer_sizes': [(100,), (100, 50), (50, 50)],\n",
    "    'activation': ['relu', 'tanh'],\n",
    "    'alpha': [0.0001, 0.001, 0.01],\n",
    "}\n",
    "\n",
    "# Creating the GridSearchCV object\n",
    "mlp_search = GridSearchCV(estimator=MLPRegressor(random_state=42), param_grid=mlp_param_grid, cv=3, scoring='neg_mean_squared_error', n_jobs=-1)\n",
    "mlp_search.fit(X_train_ov, y_train_ov)\n",
    "\n",
    "# Get the best model and print the best parameters\n",
    "\n",
    "best_mlp = mlp_search.best_estimator_\n",
    "best_parameters_mlp = mlp_search.best_params_\n",
    "print(\"Best MLP Regressor parameters:\", best_parameters_mlp)\n",
    "\n",
    "# Evaluate the best model\n",
    "mlp_predictions = best_mlp.predict(X_test_pca)\n",
    "mse = mean_squared_error(y_test, mlp_predictions)\n",
    "print(\"Mean Squared Error:\", mse)\n",
    "\n",
    "# Best negative MSE (best score)\n",
    "best_negative_mse = mlp_search.best_score_\n",
    "print(\"Best Negative MSE (best score):\", best_negative_mse)"
   ]
  },
  {
   "cell_type": "code",
   "execution_count": 45,
   "id": "4b4768b5",
   "metadata": {},
   "outputs": [
    {
     "name": "stdout",
     "output_type": "stream",
     "text": [
      "(18, 38)\n"
     ]
    }
   ],
   "source": [
    "print(X_test_pca.shape) "
   ]
  },
  {
   "cell_type": "code",
   "execution_count": 46,
   "id": "97ad9809",
   "metadata": {
    "scrolled": true
   },
   "outputs": [
    {
     "name": "stdout",
     "output_type": "stream",
     "text": [
      "Mean Squared Error for Neural Network Regression: 0.16397561026565177\n",
      "R-squared: 0.3358987784241103\n"
     ]
    }
   ],
   "source": [
    "# Neural network regression\n",
    "nn_model = MLPRegressor(hidden_layer_sizes=best_parameters_mlp['hidden_layer_sizes'], activation=best_parameters_mlp['activation'], alpha=best_parameters_mlp['alpha'], random_state=42)\n",
    "nn_model.fit(X_train_ov, y_train_ov)\n",
    "nn_predictions = nn_model.predict(X_test_pca)\n",
    "\n",
    "# Calculate Mean Squared Error (MSE)\n",
    "nn_mse = mean_squared_error(y_test, nn_predictions)\n",
    "\n",
    "# Calculate R-squared\n",
    "r_squared = nn_model.score(X_test_pca, y_test)\n",
    "\n",
    "print(\"Mean Squared Error for Neural Network Regression:\", nn_mse)\n",
    "print(\"R-squared:\", r_squared)\n",
    "\n",
    "# nn_f1 = f1_score(y_test, nn_predictions, average='weighted')\n",
    "# nn_precision = precision_score(y_test, nn_predictions, average='weighted')\n",
    "# nn_recall = recall_score(y_test, nn_predictions, average='weighted')\n",
    "# nn_confusion_matrix = confusion_matrix(y_test, nn_predictions)\n",
    "# nn_classification_report = classification_report(y_test, nn_predictions)\n",
    "\n",
    "# print(\"\\nNeural Network F1-score:\", nn_f1)\n",
    "# print(\"Neural Network Precision:\", nn_precision)\n",
    "# print(\"Neural Network Recall:\", nn_recall)\n",
    "# print(\"Neural Network Confusion Matrix:\\n\", nn_confusion_matrix)\n",
    "# print(\"Neural Network Classification Report:\\n\", nn_classification_report)\n",
    "\n"
   ]
  },
  {
   "cell_type": "code",
   "execution_count": 47,
   "id": "d96b0935",
   "metadata": {},
   "outputs": [
    {
     "name": "stdout",
     "output_type": "stream",
     "text": [
      "Mean Squared Error (SVM): 0.2222222222222222\n",
      "Mean Squared Error (Random Forest): 0.2777777777777778\n",
      "Mean Squared Error (Neural Network): 0.16397561026565177\n",
      "The most suitable model based on MSE is: Neural Network\n"
     ]
    }
   ],
   "source": [
    "# Dictionary to hold MSE values for each model\n",
    "mse_values = {'SVM': svm_rbf_mse, 'Random Forest': rf_mse, 'Neural Network': nn_mse}\n",
    "\n",
    "# Finding the model with the lowest MSE\n",
    "best_model = min(mse_values, key=mse_values.get)\n",
    "\n",
    "# Print the MSE for each model\n",
    "print(\"Mean Squared Error (SVM):\", svm_rbf_mse)\n",
    "print(\"Mean Squared Error (Random Forest):\", rf_mse)\n",
    "print(\"Mean Squared Error (Neural Network):\", nn_mse)\n",
    "\n",
    "# Print the most suitable model based on the lowest MSE\n",
    "print(\"The most suitable model based on MSE is:\", best_model)"
   ]
  },
  {
   "cell_type": "code",
   "execution_count": 48,
   "id": "1ee3da2a",
   "metadata": {},
   "outputs": [
    {
     "name": "stdout",
     "output_type": "stream",
     "text": [
      "\n",
      "Neural Network has a slightly lower MSE, indicating good predictive performance.\n",
      "Strengths of Neural Network: Ability to model complex relationships, adaptability to diverse data types.\n",
      "Weaknesses of Neural Network: Potential for overfitting, computationally intensive training.\n"
     ]
    }
   ],
   "source": [
    "# Discuss strengths and weaknesses\n",
    "if svm_rbf_mse < nn_mse:\n",
    "    print(\"\\nSVM has a slightly lower MSE, indicating good predictive performance.\")\n",
    "    print(\"Strengths of SVM: Effective in high-dimensional spaces, versatility with the kernel trick.\")\n",
    "    print(\"Weaknesses of SVM: Sensitivity to parameter choice, computationally intensive training.\")\n",
    "else:\n",
    "    print(\"\\nNeural Network has a slightly lower MSE, indicating good predictive performance.\")\n",
    "    print(\"Strengths of Neural Network: Ability to model complex relationships, adaptability to diverse data types.\")\n",
    "    print(\"Weaknesses of Neural Network: Potential for overfitting, computationally intensive training.\")"
   ]
  },
  {
   "cell_type": "code",
   "execution_count": 49,
   "id": "589ca756",
   "metadata": {
    "scrolled": true
   },
   "outputs": [
    {
     "name": "stdout",
     "output_type": "stream",
     "text": [
      "\n",
      "Strengths and Weaknesses based on Mean Squared Error:\n",
      "- SVM:\n",
      "  - Strengths:\n",
      "    - The MSE for SVM is relatively low, indicating good predictive performance.\n",
      "    - Effective in high-dimensional spaces and versatile due to the kernel trick.\n",
      "  - Weaknesses:\n",
      "    - Training SVMs can be time-consuming, especially for large datasets.\n",
      "    - Sensitivity to the choice of parameters, particularly the kernel.\n",
      "\n",
      "- Neural Network:\n",
      "  - Strengths:\n",
      "    - The MSE for the Neural Network is competitive, suggesting good predictive performance.\n",
      "    - Neural networks can model complex relationships in the data.\n",
      "  - Weaknesses:\n",
      "    - Neural networks can be prone to overfitting, especially with complex architectures.\n",
      "    - Training can be computationally intensive, particularly for deep networks.\n"
     ]
    }
   ],
   "source": [
    "# Discuss strengths and weaknesses based on MSE\n",
    "print(\"\\nStrengths and Weaknesses based on Mean Squared Error:\")\n",
    "print(\"- SVM:\")\n",
    "print(\"  - Strengths:\")\n",
    "print(\"    - The MSE for SVM is relatively low, indicating good predictive performance.\")\n",
    "print(\"    - Effective in high-dimensional spaces and versatile due to the kernel trick.\")\n",
    "print(\"  - Weaknesses:\")\n",
    "print(\"    - Training SVMs can be time-consuming, especially for large datasets.\")\n",
    "print(\"    - Sensitivity to the choice of parameters, particularly the kernel.\")\n",
    "\n",
    "print(\"\\n- Neural Network:\")\n",
    "print(\"  - Strengths:\")\n",
    "print(\"    - The MSE for the Neural Network is competitive, suggesting good predictive performance.\")\n",
    "print(\"    - Neural networks can model complex relationships in the data.\")\n",
    "print(\"  - Weaknesses:\")\n",
    "print(\"    - Neural networks can be prone to overfitting, especially with complex architectures.\")\n",
    "print(\"    - Training can be computationally intensive, particularly for deep networks.\")\n"
   ]
  },
  {
   "cell_type": "code",
   "execution_count": 50,
   "id": "6294407a",
   "metadata": {},
   "outputs": [
    {
     "name": "stdout",
     "output_type": "stream",
     "text": [
      "\n",
      "Choosing the Most Suitable Model:\n",
      "- Both SVM and Neural Network demonstrate competitive performance based on MSE.\n",
      "- Given the closeness in MSE and considering additional factors like interpretability and ease of use:\n",
      "  - If interpretability is crucial: SVM might be more suitable due to its simpler model structure and easier parameter interpretation.\n",
      "  - If computational efficiency and scalability are important: SVM might be preferred for moderately sized datasets, as it generally requires less training time compared to neural networks.\n",
      "  - If the potential for complex relationships in the data is a priority: Neural Network could be a better fit due to its ability to model intricate patterns and relationships in the data.\n",
      "The final choice of the most suitable model should consider a balance between accuracy, interpretability, computational efficiency, and the specific requirements of the cancer type prediction task. It's often valuable to experiment with both models, fine-tuning hyperparameters, and assessing their performance on the specific dataset.\n"
     ]
    }
   ],
   "source": [
    "# Discuss the most suitable model based on MSE comparison\n",
    "print(\"\\nChoosing the Most Suitable Model:\")\n",
    "print(\"- Both SVM and Neural Network demonstrate competitive performance based on MSE.\")\n",
    "print(\"- Given the closeness in MSE and considering additional factors like interpretability and ease of use:\")\n",
    "print(\"  - If interpretability is crucial: SVM might be more suitable due to its simpler model structure and easier parameter interpretation.\")\n",
    "print(\"  - If computational efficiency and scalability are important: SVM might be preferred for moderately sized datasets, as it generally requires less training time compared to neural networks.\")\n",
    "print(\"  - If the potential for complex relationships in the data is a priority: Neural Network could be a better fit due to its ability to model intricate patterns and relationships in the data.\")\n",
    "print(\"The final choice of the most suitable model should consider a balance between accuracy, interpretability, computational efficiency, and the specific requirements of the cancer type prediction task. It's often valuable to experiment with both models, fine-tuning hyperparameters, and assessing their performance on the specific dataset.\")"
   ]
  },
  {
   "cell_type": "code",
   "execution_count": 51,
   "id": "9513348c",
   "metadata": {},
   "outputs": [],
   "source": [
    "# # Compare model performances based on accuracy\n",
    "# # Higher accuracy or F1-score indicates a better-performing model\n",
    "\n",
    "# model_accuracies = {\n",
    "#     'SVM': svm_rbf_accuracy,\n",
    "#     'Random Forest': rf_accuracy,\n",
    "# #     'Neural Network': nn_accuracy\n",
    "# }\n",
    "\n",
    "# best_model = max(model_accuracies, key=model_accuracies.get)\n",
    "# print(\"Best Model:\", best_model)\n"
   ]
  },
  {
   "cell_type": "code",
   "execution_count": 52,
   "id": "4f2fbe5e",
   "metadata": {},
   "outputs": [],
   "source": [
    "# # Analyze and conclude based on the comparison\n",
    "\n",
    "# # Print model comparison summary\n",
    "# print(\"Model Comparison Summary:\")\n",
    "# for model, accuracy in model_accuracies.items():\n",
    "#     print(f\"{model} Accuracy: {accuracy}\")\n",
    "\n",
    "# print(\"Best Model:\", best_model)\n",
    "# print(\"Conclusion: Based on the comparison, the best model for this task is\", best_model)\n"
   ]
  }
 ],
 "metadata": {
  "kernelspec": {
   "display_name": "Python 3 (ipykernel)",
   "language": "python",
   "name": "python3"
  },
  "language_info": {
   "codemirror_mode": {
    "name": "ipython",
    "version": 3
   },
   "file_extension": ".py",
   "mimetype": "text/x-python",
   "name": "python",
   "nbconvert_exporter": "python",
   "pygments_lexer": "ipython3",
   "version": "3.11.4"
  }
 },
 "nbformat": 4,
 "nbformat_minor": 5
}
